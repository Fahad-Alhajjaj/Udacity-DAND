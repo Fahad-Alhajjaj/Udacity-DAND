{
 "cells": [
  {
   "cell_type": "markdown",
   "metadata": {},
   "source": [
    "\"RMS Titanic (/taɪˈtænɪk/) was a British passenger liner that sank in the North Atlantic Ocean in the early morning of 15 April 1912, after colliding with an iceberg during her maiden voyage from Southampton to New York City.\" Titanic was the largest ship afloat at the time it entered service and was one of three Olympic class ocean liners operated by the White Star Line. The ship carried 2,224 passengers and crew aboard. \"Titanic only carried enough lifeboats for 1,178 people—slightly more than half of the number on board, and one third of her total capacity.\" Titanic left Southampton and made two stops before heading west to New York. It stopped at Cherbourg, France then at Queenstown, Ireland. [Wikipedia](https://en.wikipedia.org/wiki/RMS_Titanic)\n",
    "\n",
    "We have a sample of 891 of the 2,224 passengers and crew aboard. The sample was obtained from [the Kaggle website](https://www.kaggle.com/c/titanic/data). In this project the data is going to be analysed and some questiones are going to be asked and answered. Discription of the data was obtained from [the Kaggle website](https://www.kaggle.com/c/titanic/data) and will be gived before we ask the questions.\n",
    "\n",
    "# Data Dictionary\n",
    "\n",
    "|**Variable** | **Definition** | **Key**|\n",
    "| --- | --- | --- |\n",
    "| survival | Survival | 0 = No, 1 = Yes |\n",
    "| pclass | Ticket class | 1 = 1st, 2 = 2nd, 3 = 3rd|\n",
    "| sex | Sex | |\n",
    "| Age | Age in years | |\n",
    "| sibsp\t| # of siblings / spouses aboard the Titanic | |\n",
    "| parch\t| # of parents / children aboard the Titanic | |\n",
    "| ticket | Ticket number | |\n",
    "| fare | Passenger fare | |\n",
    "| cabin\t| Cabin number | |\n",
    "| embarked | Port of Embarkation | C = Cherbourg, Q = Queenstown, S = Southampton |\n",
    "\n",
    "\n",
    "# Variable Notes\n",
    "\n",
    "pclass: A proxy for socio-economic status (SES)  \n",
    "1st = Upper  \n",
    "2nd = Middle  \n",
    "3rd = Lower  \n",
    "\n",
    "age: Age is fractional if less than 1. If the age is estimated, is it in the form of xx.5\n",
    "\n",
    "\n",
    "sibsp: The dataset defines family relations in this way...  \n",
    "Sibling = brother, sister, stepbrother, stepsister  \n",
    "Spouse = husband, wife (mistresses and fiancés were ignored)  \n",
    "\n",
    "parch: The dataset defines family relations in this way...  \n",
    "Parent = mother, father  \n",
    "Child = daughter, son, stepdaughter, stepson  \n",
    "Some children travelled only with a nanny, therefore parch=0 for them.  \n",
    "\n",
    "# Questions:\n",
    "1. what is the ratio of survivals/non-survivals?\n",
    "2. How many people ported from each of the three Ports?\n",
    "3. How many people survived from each port?\n",
    "4. How many people were in each Ticket class?\n",
    "5. How many people survived from each Ticket class?\n",
    "6. Is there a relationship between survival and Ticket class?\n",
    "6. Is there a relationship between survival and sex?\n",
    "8. Is there a relationship between survival and age?\n",
    "9. Is there a relationship between survival and having a sibling/spouse/parent/child aboard the Titanic?"
   ]
  },
  {
   "cell_type": "markdown",
   "metadata": {},
   "source": [
    "Source Declarations:  \n",
    "These are the websites and sample code used for completing this project, or was inspired by to complete this project  \n",
    "[matplotlib documentations and sample code](http://matplotlib.org/api/pyplot_api.html)  \n",
    "[Udacity](https://www.udacity.com)  \n",
    "[Pandas documentations](http://pandas.pydata.org/pandas-docs/stable/index.html)  \n",
    "[Show DataFrame as table in iPython Notebook](http://stackoverflow.com/questions/26873127/show-dataframe-as-table-in-ipython-notebook)  \n",
    "[Is there a way to perform “if” in python's lambda](http://stackoverflow.com/questions/1585322/is-there-a-way-to-perform-if-in-pythons-lambda)"
   ]
  },
  {
   "cell_type": "markdown",
   "metadata": {},
   "source": [
    "** *Importing the necessary libraries that are used in the code* **"
   ]
  },
  {
   "cell_type": "code",
   "execution_count": 1,
   "metadata": {
    "collapsed": false
   },
   "outputs": [],
   "source": [
    "import matplotlib.pyplot as plt\n",
    "import pandas as pd\n",
    "import seaborn as sns\n",
    "from IPython.display import display"
   ]
  },
  {
   "cell_type": "markdown",
   "metadata": {},
   "source": [
    "** *Reading in the data file into a Panda DataFrame* **"
   ]
  },
  {
   "cell_type": "code",
   "execution_count": 2,
   "metadata": {
    "collapsed": true
   },
   "outputs": [],
   "source": [
    "titanic_df = pd.read_csv('titanic-data.csv')"
   ]
  },
  {
   "cell_type": "markdown",
   "metadata": {},
   "source": [
    "** *Printing 5 lines from the DataFrame to take a look at the data* **"
   ]
  },
  {
   "cell_type": "code",
   "execution_count": 3,
   "metadata": {
    "collapsed": false
   },
   "outputs": [
    {
     "data": {
      "text/html": [
       "<div>\n",
       "<table border=\"1\" class=\"dataframe\">\n",
       "  <thead>\n",
       "    <tr style=\"text-align: right;\">\n",
       "      <th></th>\n",
       "      <th>PassengerId</th>\n",
       "      <th>Survived</th>\n",
       "      <th>Pclass</th>\n",
       "      <th>Name</th>\n",
       "      <th>Sex</th>\n",
       "      <th>Age</th>\n",
       "      <th>SibSp</th>\n",
       "      <th>Parch</th>\n",
       "      <th>Ticket</th>\n",
       "      <th>Fare</th>\n",
       "      <th>Cabin</th>\n",
       "      <th>Embarked</th>\n",
       "    </tr>\n",
       "  </thead>\n",
       "  <tbody>\n",
       "    <tr>\n",
       "      <th>0</th>\n",
       "      <td>1</td>\n",
       "      <td>0</td>\n",
       "      <td>3</td>\n",
       "      <td>Braund, Mr. Owen Harris</td>\n",
       "      <td>male</td>\n",
       "      <td>22.0</td>\n",
       "      <td>1</td>\n",
       "      <td>0</td>\n",
       "      <td>A/5 21171</td>\n",
       "      <td>7.2500</td>\n",
       "      <td>NaN</td>\n",
       "      <td>S</td>\n",
       "    </tr>\n",
       "    <tr>\n",
       "      <th>1</th>\n",
       "      <td>2</td>\n",
       "      <td>1</td>\n",
       "      <td>1</td>\n",
       "      <td>Cumings, Mrs. John Bradley (Florence Briggs Th...</td>\n",
       "      <td>female</td>\n",
       "      <td>38.0</td>\n",
       "      <td>1</td>\n",
       "      <td>0</td>\n",
       "      <td>PC 17599</td>\n",
       "      <td>71.2833</td>\n",
       "      <td>C85</td>\n",
       "      <td>C</td>\n",
       "    </tr>\n",
       "    <tr>\n",
       "      <th>2</th>\n",
       "      <td>3</td>\n",
       "      <td>1</td>\n",
       "      <td>3</td>\n",
       "      <td>Heikkinen, Miss. Laina</td>\n",
       "      <td>female</td>\n",
       "      <td>26.0</td>\n",
       "      <td>0</td>\n",
       "      <td>0</td>\n",
       "      <td>STON/O2. 3101282</td>\n",
       "      <td>7.9250</td>\n",
       "      <td>NaN</td>\n",
       "      <td>S</td>\n",
       "    </tr>\n",
       "    <tr>\n",
       "      <th>3</th>\n",
       "      <td>4</td>\n",
       "      <td>1</td>\n",
       "      <td>1</td>\n",
       "      <td>Futrelle, Mrs. Jacques Heath (Lily May Peel)</td>\n",
       "      <td>female</td>\n",
       "      <td>35.0</td>\n",
       "      <td>1</td>\n",
       "      <td>0</td>\n",
       "      <td>113803</td>\n",
       "      <td>53.1000</td>\n",
       "      <td>C123</td>\n",
       "      <td>S</td>\n",
       "    </tr>\n",
       "    <tr>\n",
       "      <th>4</th>\n",
       "      <td>5</td>\n",
       "      <td>0</td>\n",
       "      <td>3</td>\n",
       "      <td>Allen, Mr. William Henry</td>\n",
       "      <td>male</td>\n",
       "      <td>35.0</td>\n",
       "      <td>0</td>\n",
       "      <td>0</td>\n",
       "      <td>373450</td>\n",
       "      <td>8.0500</td>\n",
       "      <td>NaN</td>\n",
       "      <td>S</td>\n",
       "    </tr>\n",
       "  </tbody>\n",
       "</table>\n",
       "</div>"
      ],
      "text/plain": [
       "   PassengerId  Survived  Pclass  \\\n",
       "0            1         0       3   \n",
       "1            2         1       1   \n",
       "2            3         1       3   \n",
       "3            4         1       1   \n",
       "4            5         0       3   \n",
       "\n",
       "                                                Name     Sex   Age  SibSp  \\\n",
       "0                            Braund, Mr. Owen Harris    male  22.0      1   \n",
       "1  Cumings, Mrs. John Bradley (Florence Briggs Th...  female  38.0      1   \n",
       "2                             Heikkinen, Miss. Laina  female  26.0      0   \n",
       "3       Futrelle, Mrs. Jacques Heath (Lily May Peel)  female  35.0      1   \n",
       "4                           Allen, Mr. William Henry    male  35.0      0   \n",
       "\n",
       "   Parch            Ticket     Fare Cabin Embarked  \n",
       "0      0         A/5 21171   7.2500   NaN        S  \n",
       "1      0          PC 17599  71.2833   C85        C  \n",
       "2      0  STON/O2. 3101282   7.9250   NaN        S  \n",
       "3      0            113803  53.1000  C123        S  \n",
       "4      0            373450   8.0500   NaN        S  "
      ]
     },
     "execution_count": 3,
     "metadata": {},
     "output_type": "execute_result"
    }
   ],
   "source": [
    "titanic_df.head(5)"
   ]
  },
  {
   "cell_type": "markdown",
   "metadata": {},
   "source": [
    "** *Checking the data for problems* **"
   ]
  },
  {
   "cell_type": "code",
   "execution_count": 4,
   "metadata": {
    "collapsed": false
   },
   "outputs": [
    {
     "name": "stdout",
     "output_type": "stream",
     "text": [
      "Survived set([0, 1])\n",
      "Pclass set([1, 2, 3])\n",
      "Sex set(['male', 'female'])\n",
      "SibSp set([0, 1, 2, 3, 4, 5, 8])\n",
      "Parch set([0, 1, 2, 3, 4, 5, 6])\n",
      "Embarked set(['Q', nan, 'S', 'C'])\n",
      "count    714.000000\n",
      "mean      29.699118\n",
      "std       14.526497\n",
      "min        0.420000\n",
      "25%       20.125000\n",
      "50%       28.000000\n",
      "75%       38.000000\n",
      "max       80.000000\n",
      "Name: Age, dtype: float64\n",
      "\n",
      "Count of data avialable\n",
      "PassengerId    891\n",
      "Survived       891\n",
      "Pclass         891\n",
      "Name           891\n",
      "Sex            891\n",
      "Age            714\n",
      "SibSp          891\n",
      "Parch          891\n",
      "Ticket         891\n",
      "Fare           891\n",
      "Cabin          204\n",
      "Embarked       889\n",
      "dtype: int64\n"
     ]
    },
    {
     "data": {
      "image/png": "[encoded data removed]",
      "text/plain": [
       "<matplotlib.figure.Figure at 0x98691d0>"
      ]
     },
     "metadata": {},
     "output_type": "display_data"
    }
   ],
   "source": [
    "# We are not going to use Name, Ticket, Fare, and Cabin columns so we are not going to check them\n",
    "survived = set(titanic_df['Survived'])\n",
    "print 'Survived', survived\n",
    "pClass = set(titanic_df['Pclass'])\n",
    "print 'Pclass', pClass\n",
    "sex = set(titanic_df['Sex'])\n",
    "print 'Sex', sex\n",
    "sibSp = set(titanic_df['SibSp'])\n",
    "print 'SibSp', sibSp\n",
    "parch = set(titanic_df['Parch'])\n",
    "print 'Parch', parch\n",
    "embarked = set(titanic_df['Embarked'])\n",
    "print 'Embarked', embarked\n",
    "\n",
    "print titanic_df['Age'].describe()\n",
    "\n",
    "print '\\nCount of data avialable\\n', titanic_df.count()\n",
    "plt.hist(titanic_df['Age'].dropna(), bins= 30, range = (0, 85), normed=1)\n",
    "\n",
    "plt.ylabel('Frequences')\n",
    "plt.xlabel('Age')\n",
    "plt.title('Distribution of Age')\n",
    "\n",
    "plt.show()"
   ]
  },
  {
   "cell_type": "markdown",
   "metadata": {},
   "source": [
    "** All data looks good, but we noticed some missing informations in some rows. For example \"Age\" has only 714 records out of 891 but that's fine. We are not going to clean the dataset by deleting the records that has missing information but we are going to ignore them when applicable. ** "
   ]
  },
  {
   "cell_type": "code",
   "execution_count": 5,
   "metadata": {
    "collapsed": true
   },
   "outputs": [],
   "source": [
    "# we are changing the name of 'PassengerId' column to 'Number of people' using DataFrame.rename\n",
    "titanic_df.rename(columns={'PassengerId': 'Number of people'}, inplace=True)\n",
    "\n",
    "# we are changing all the values of the 'Number of people' column to '1' using apply()\n",
    "titanic_df['Number of people'] = titanic_df['Number of people'].apply(lambda x: 1)"
   ]
  },
  {
   "cell_type": "code",
   "execution_count": 6,
   "metadata": {
    "collapsed": false
   },
   "outputs": [],
   "source": [
    "def age_range(age):\n",
    "    '''\n",
    "    Usage:\n",
    "    takes an int \"age\" and return what range that age is in.\n",
    "    return a string.\n",
    "    '''\n",
    "    if age <= 18:\n",
    "        return 'Child'\n",
    "    elif age > 18 and age < 65:\n",
    "        return 'Adult'\n",
    "    elif age >= 65:\n",
    "        return 'Senior'\n",
    "    else:\n",
    "        return None\n",
    "\n",
    "def get_sex(sex):\n",
    "    '''\n",
    "    Usage:\n",
    "    takes a string \"sex\" and return an int representation.\n",
    "    return 1 for female and 0 for male.\n",
    "    '''\n",
    "    if sex == 'female':\n",
    "        return 1\n",
    "    elif sex == 'male':\n",
    "        return 0\n",
    "    else:\n",
    "        return None\n",
    "\n",
    "# We are adding some new columns to the DataFrame to use them later in our code\n",
    "titanic_df['Gender'] = titanic_df['Sex'].apply(get_sex) #using apply(get_sex) to add the Gender column to the DataFrame\n",
    "titanic_df['Age range'] = titanic_df['Age'].apply(age_range) #using apply(age_range) to add the Age range column to the DataFrame"
   ]
  },
  {
   "cell_type": "code",
   "execution_count": 7,
   "metadata": {
    "collapsed": false
   },
   "outputs": [],
   "source": [
    "def correlation(x, y):\n",
    "    '''\n",
    "    Usage:\n",
    "    Calculate the correlation bewteen two variables\n",
    "    the closer the result to -1 or 1 the stronger the correlation between the two variables\n",
    "    the closer the result to 0 the weaker the correlation between the two variables\n",
    "    returns a float between -1 and 1.\n",
    "    '''\n",
    "    a = ((x - x.mean()) / x.std(ddof=0))\n",
    "    b = (y - y.mean()) / y.std(ddof=0)\n",
    "    c = a * b\n",
    "    return c.values.mean()\n",
    "\n",
    "def survivals_and_non_survivals(df):\n",
    "    '''\n",
    "    Usage:\n",
    "    split the dataframe into survivals and non-survivals\n",
    "    returns the two dataframes as a tuple\n",
    "    '''\n",
    "    return df[df['Survived'] == 1], df[df['Survived'] == 0]"
   ]
  },
  {
   "cell_type": "markdown",
   "metadata": {},
   "source": [
    "# Now we are going to answer each of the questions   \n",
    "### Q1. what is the ratio of survivals/non-survivals?"
   ]
  },
  {
   "cell_type": "code",
   "execution_count": 8,
   "metadata": {
    "collapsed": false
   },
   "outputs": [
    {
     "name": "stdout",
     "output_type": "stream",
     "text": [
      "Total Count:  891.0\n",
      "Survivals Count: 342.0\n",
      "Non-Survivals Count: 549.0\n",
      "So the ratio of survivals/non-survivals is: 1.60526315789\n"
     ]
    },
    {
     "data": {
      "image/png": "[encoded data removed]",
      "text/plain": [
       "<matplotlib.figure.Figure at 0x9b0b0f0>"
      ]
     },
     "metadata": {},
     "output_type": "display_data"
    }
   ],
   "source": [
    "# we are spliting the dataframe into survivals and non-survivals using survivals_and_non_survivals().\n",
    "# then we are getting their length and comparing them to each other.\n",
    "survival_count, non_survival_count = survivals_and_non_survivals(titanic_df)\n",
    "survival_count = float(len(survival_count))\n",
    "non_survival_count = float(len(non_survival_count))\n",
    "print 'Total Count: ', (survival_count + non_survival_count) # making sure the data add up to the right size\n",
    "print 'Survivals Count:', survival_count\n",
    "print 'Non-Survivals Count:', non_survival_count\n",
    "print 'So the ratio of survivals/non-survivals is:', (non_survival_count / survival_count)\n",
    "\n",
    "# we are ploting a pie chart to understand the data better.\n",
    "plt.pie([survival_count, non_survival_count], labels = ['Survivals', 'Non-Survivals'], autopct='%1.1f%%')\n",
    "plt.title('Number of people by Survival/Non-Survival')\n",
    "plt.show()"
   ]
  },
  {
   "cell_type": "markdown",
   "metadata": {},
   "source": [
    "This means that for every **5 survivals** there are about **8 non-survivals**"
   ]
  },
  {
   "cell_type": "code",
   "execution_count": 9,
   "metadata": {
    "collapsed": true
   },
   "outputs": [],
   "source": [
    "def count_group(variable):\n",
    "  \"\"\"\n",
    "  Usage:\n",
    "  Grouping the dataframe by the variable/s passed\n",
    "  return the group count of the dataframe\n",
    "  \"\"\"\n",
    "  return titanic_df.groupby(variable, as_index=False)['Number of people'].count()"
   ]
  },
  {
   "cell_type": "markdown",
   "metadata": {},
   "source": [
    "### Q2. How many people ported from each of the three Ports?"
   ]
  },
  {
   "cell_type": "code",
   "execution_count": 10,
   "metadata": {
    "collapsed": false
   },
   "outputs": [
    {
     "name": "stdout",
     "output_type": "stream",
     "text": [
      "C = Cherbourg, Q = Queenstown, S = Southampton\n",
      "\n"
     ]
    },
    {
     "data": {
      "text/html": [
       "<div>\n",
       "<table border=\"1\" class=\"dataframe\">\n",
       "  <thead>\n",
       "    <tr style=\"text-align: right;\">\n",
       "      <th></th>\n",
       "      <th>Embarked</th>\n",
       "      <th>Number of people</th>\n",
       "    </tr>\n",
       "  </thead>\n",
       "  <tbody>\n",
       "    <tr>\n",
       "      <th>0</th>\n",
       "      <td>C</td>\n",
       "      <td>168</td>\n",
       "    </tr>\n",
       "    <tr>\n",
       "      <th>1</th>\n",
       "      <td>Q</td>\n",
       "      <td>77</td>\n",
       "    </tr>\n",
       "    <tr>\n",
       "      <th>2</th>\n",
       "      <td>S</td>\n",
       "      <td>644</td>\n",
       "    </tr>\n",
       "  </tbody>\n",
       "</table>\n",
       "</div>"
      ],
      "text/plain": [
       "  Embarked  Number of people\n",
       "0        C               168\n",
       "1        Q                77\n",
       "2        S               644"
      ]
     },
     "metadata": {},
     "output_type": "display_data"
    },
    {
     "data": {
      "image/png": "[encoded data removed]",
      "text/plain": [
       "<matplotlib.figure.Figure at 0x9ab1b70>"
      ]
     },
     "metadata": {},
     "output_type": "display_data"
    }
   ],
   "source": [
    "# we are using the count_group() function to get the count of people from each Port\n",
    "embarked_df = count_group('Embarked')\n",
    "print 'C = Cherbourg, Q = Queenstown, S = Southampton\\n'\n",
    "display(embarked_df)\n",
    "\n",
    "plt.pie(embarked_df['Number of people'], labels = ['Cherbourg', 'Queenstown', 'Southampton'], autopct='%1.1f%%')\n",
    "plt.title('Number of people by port')\n",
    "plt.show()"
   ]
  },
  {
   "cell_type": "markdown",
   "metadata": {},
   "source": [
    "We see that most people ported from Southampton and they were almost triple the number of people ported from both Cherbourg and Queenstown.  \n",
    "\n",
    "### Q3. How many people survived from each port?"
   ]
  },
  {
   "cell_type": "code",
   "execution_count": 11,
   "metadata": {
    "collapsed": false
   },
   "outputs": [
    {
     "name": "stdout",
     "output_type": "stream",
     "text": [
      "C = Cherbourg, Q = Queenstown, S = Southampton\n",
      "\n"
     ]
    },
    {
     "data": {
      "text/html": [
       "<div>\n",
       "<table border=\"1\" class=\"dataframe\">\n",
       "  <thead>\n",
       "    <tr style=\"text-align: right;\">\n",
       "      <th></th>\n",
       "      <th>Embarked</th>\n",
       "      <th>Survived</th>\n",
       "      <th>Number of people</th>\n",
       "    </tr>\n",
       "  </thead>\n",
       "  <tbody>\n",
       "    <tr>\n",
       "      <th>1</th>\n",
       "      <td>C</td>\n",
       "      <td>1</td>\n",
       "      <td>93</td>\n",
       "    </tr>\n",
       "    <tr>\n",
       "      <th>3</th>\n",
       "      <td>Q</td>\n",
       "      <td>1</td>\n",
       "      <td>30</td>\n",
       "    </tr>\n",
       "    <tr>\n",
       "      <th>5</th>\n",
       "      <td>S</td>\n",
       "      <td>1</td>\n",
       "      <td>217</td>\n",
       "    </tr>\n",
       "  </tbody>\n",
       "</table>\n",
       "</div>"
      ],
      "text/plain": [
       "  Embarked  Survived  Number of people\n",
       "1        C         1                93\n",
       "3        Q         1                30\n",
       "5        S         1               217"
      ]
     },
     "metadata": {},
     "output_type": "display_data"
    }
   ],
   "source": [
    "# we are using the count_group() function to get the count of people from each Port and their survival\n",
    "port_survival = count_group(['Embarked', 'Survived'])\n",
    "survivals = port_survival[port_survival['Survived'] == 1]\n",
    "print 'C = Cherbourg, Q = Queenstown, S = Southampton\\n'\n",
    "display(survivals)"
   ]
  },
  {
   "cell_type": "markdown",
   "metadata": {},
   "source": [
    "When adding the number of survivals from all ports, we see that they add up to 340 survivals. This means, there are two people who survived but we don't know from where they ported. Since we saw before that there were 341 survivals.\n",
    "\n",
    "### Q4. How many people were in each Ticket class?"
   ]
  },
  {
   "cell_type": "code",
   "execution_count": 12,
   "metadata": {
    "collapsed": false
   },
   "outputs": [
    {
     "name": "stdout",
     "output_type": "stream",
     "text": [
      "Pclass:  1 = 1st, 2 = 2nd, 3 = 3rd\n"
     ]
    },
    {
     "data": {
      "text/html": [
       "<div>\n",
       "<table border=\"1\" class=\"dataframe\">\n",
       "  <thead>\n",
       "    <tr style=\"text-align: right;\">\n",
       "      <th></th>\n",
       "      <th>Pclass</th>\n",
       "      <th>Number of people</th>\n",
       "    </tr>\n",
       "  </thead>\n",
       "  <tbody>\n",
       "    <tr>\n",
       "      <th>0</th>\n",
       "      <td>1</td>\n",
       "      <td>216</td>\n",
       "    </tr>\n",
       "    <tr>\n",
       "      <th>1</th>\n",
       "      <td>2</td>\n",
       "      <td>184</td>\n",
       "    </tr>\n",
       "    <tr>\n",
       "      <th>2</th>\n",
       "      <td>3</td>\n",
       "      <td>491</td>\n",
       "    </tr>\n",
       "  </tbody>\n",
       "</table>\n",
       "</div>"
      ],
      "text/plain": [
       "   Pclass  Number of people\n",
       "0       1               216\n",
       "1       2               184\n",
       "2       3               491"
      ]
     },
     "metadata": {},
     "output_type": "display_data"
    }
   ],
   "source": [
    "# we are using the count_group() function to get the count of people from each Ticket class\n",
    "pClass_survival_df = count_group('Pclass')\n",
    "\n",
    "print 'Pclass:  1 = 1st, 2 = 2nd, 3 = 3rd'\n",
    "display(pClass_survival_df)"
   ]
  },
  {
   "cell_type": "markdown",
   "metadata": {},
   "source": [
    "### Q5. How many people survived from each Ticket class?"
   ]
  },
  {
   "cell_type": "code",
   "execution_count": 13,
   "metadata": {
    "collapsed": false
   },
   "outputs": [
    {
     "name": "stdout",
     "output_type": "stream",
     "text": [
      "Pclass:  1 = 1st, 2 = 2nd, 3 = 3rd\n",
      "Survived:  0 = No, 1 = Yes\n",
      "\n"
     ]
    },
    {
     "data": {
      "text/html": [
       "<div>\n",
       "<table border=\"1\" class=\"dataframe\">\n",
       "  <thead>\n",
       "    <tr>\n",
       "      <th></th>\n",
       "      <th colspan=\"2\" halign=\"left\">Number of people</th>\n",
       "    </tr>\n",
       "    <tr>\n",
       "      <th>Survived</th>\n",
       "      <th>0</th>\n",
       "      <th>1</th>\n",
       "    </tr>\n",
       "    <tr>\n",
       "      <th>Pclass</th>\n",
       "      <th></th>\n",
       "      <th></th>\n",
       "    </tr>\n",
       "  </thead>\n",
       "  <tbody>\n",
       "    <tr>\n",
       "      <th>1</th>\n",
       "      <td>80</td>\n",
       "      <td>136</td>\n",
       "    </tr>\n",
       "    <tr>\n",
       "      <th>2</th>\n",
       "      <td>97</td>\n",
       "      <td>87</td>\n",
       "    </tr>\n",
       "    <tr>\n",
       "      <th>3</th>\n",
       "      <td>372</td>\n",
       "      <td>119</td>\n",
       "    </tr>\n",
       "  </tbody>\n",
       "</table>\n",
       "</div>"
      ],
      "text/plain": [
       "         Number of people     \n",
       "Survived                0    1\n",
       "Pclass                        \n",
       "1                      80  136\n",
       "2                      97   87\n",
       "3                     372  119"
      ]
     },
     "metadata": {},
     "output_type": "display_data"
    },
    {
     "data": {
      "image/png": "[encoded data removed]",
      "text/plain": [
       "<matplotlib.figure.Figure at 0x49bac88>"
      ]
     },
     "metadata": {},
     "output_type": "display_data"
    }
   ],
   "source": [
    "# we are using the count_group() function to get the count of people from each Ticket class and their survival\n",
    "class_survival_df = count_group(['Pclass', 'Survived'])\n",
    "print 'Pclass:  1 = 1st, 2 = 2nd, 3 = 3rd'\n",
    "print 'Survived:  0 = No, 1 = Yes\\n'\n",
    "display(class_survival_df.pivot_table(index='Pclass', columns='Survived'))\n",
    "\n",
    "# Spliting the class_survival_df into survivals and non-survivals using survivals_and_non_survivals() function\n",
    "survivals, non_survivals = survivals_and_non_survivals(class_survival_df)\n",
    "\n",
    "left1 = [1, 2, 3]\n",
    "left2 = [1.35, 2.35, 3.35]\n",
    "\n",
    "# ploting survivals and non_survivals for comparison\n",
    "p1=plt.bar(left1, survivals['Number of people'], color='b', width=0.3)\n",
    "p2=plt.bar(left2, non_survivals['Number of people'], color='r', width=0.3)\n",
    "\n",
    "# adding x,y lables and title and more details to the plot\n",
    "plt.ylabel('People Count')\n",
    "plt.xlabel('Ticket Class')\n",
    "plt.title('Ticket class survivals')\n",
    "plt.xticks([1.3, 2.3, 3.3], ['1st', '2ed', '3rd'])\n",
    "plt.legend((p1[0], p2[0]), ('Survivals', 'Non-Survivals'), loc=9)\n",
    "\n",
    "plt.show()"
   ]
  },
  {
   "cell_type": "markdown",
   "metadata": {},
   "source": [
    "### Q6. Is there a relationship between survival and Ticket class?"
   ]
  },
  {
   "cell_type": "code",
   "execution_count": 14,
   "metadata": {
    "collapsed": false
   },
   "outputs": [
    {
     "data": {
      "text/plain": [
       "-0.3384810359610152"
      ]
     },
     "execution_count": 14,
     "metadata": {},
     "output_type": "execute_result"
    }
   ],
   "source": [
    "# using the correlation() function to get the correlation between Pclass and Survived data columns\n",
    "correlation(titanic_df['Pclass'], titanic_df['Survived'])"
   ]
  },
  {
   "cell_type": "markdown",
   "metadata": {},
   "source": [
    "This means there is a some relationship between **Survival** and **Ticket class**  \n",
    "The higher the class ticket a passenger had the better chance of survival the person had.  \n",
    "We see that for every 5 people survived in 1st class there were 3 who died in 1st class and the ratio is survived/died = 0.59.  \n",
    "However, that is not the case for 3rd class. For every 1 person survived in 3rd class there were 3 who died in 3rd class and the ratio is survived/died = 0.32."
   ]
  },
  {
   "cell_type": "markdown",
   "metadata": {},
   "source": [
    "### Q7. Is there a relationship between survival and sex?"
   ]
  },
  {
   "cell_type": "code",
   "execution_count": 15,
   "metadata": {
    "collapsed": false
   },
   "outputs": [
    {
     "name": "stdout",
     "output_type": "stream",
     "text": [
      "Survived:  0 = No, 1 = Yes\n",
      "\n"
     ]
    },
    {
     "data": {
      "text/html": [
       "<div>\n",
       "<table border=\"1\" class=\"dataframe\">\n",
       "  <thead>\n",
       "    <tr>\n",
       "      <th></th>\n",
       "      <th colspan=\"2\" halign=\"left\">Number of people</th>\n",
       "    </tr>\n",
       "    <tr>\n",
       "      <th>Survived</th>\n",
       "      <th>0</th>\n",
       "      <th>1</th>\n",
       "    </tr>\n",
       "    <tr>\n",
       "      <th>Sex</th>\n",
       "      <th></th>\n",
       "      <th></th>\n",
       "    </tr>\n",
       "  </thead>\n",
       "  <tbody>\n",
       "    <tr>\n",
       "      <th>female</th>\n",
       "      <td>81</td>\n",
       "      <td>233</td>\n",
       "    </tr>\n",
       "    <tr>\n",
       "      <th>male</th>\n",
       "      <td>468</td>\n",
       "      <td>109</td>\n",
       "    </tr>\n",
       "  </tbody>\n",
       "</table>\n",
       "</div>"
      ],
      "text/plain": [
       "         Number of people     \n",
       "Survived                0    1\n",
       "Sex                           \n",
       "female                 81  233\n",
       "male                  468  109"
      ]
     },
     "metadata": {},
     "output_type": "display_data"
    },
    {
     "data": {
      "image/png": "[encoded data removed]",
      "text/plain": [
       "<matplotlib.figure.Figure at 0x9b24ba8>"
      ]
     },
     "metadata": {},
     "output_type": "display_data"
    }
   ],
   "source": [
    "# we are using the count_group() function to get the count of (female and male) and their survival\n",
    "sex_survival_df = count_group(['Sex', 'Survived'])\n",
    "\n",
    "# Spliting the sex_survival_df into survivals and non-survivals using survivals_and_non_survivals() function\n",
    "survivals, non_survivals = survivals_and_non_survivals(sex_survival_df)\n",
    "\n",
    "# ploting survivals and non_survivals for comparison\n",
    "p1=plt.bar([1, 2], survivals['Number of people'], color='b', width=0.3)\n",
    "p2=plt.bar([1.35, 2.35], non_survivals['Number of people'], color='r', width=0.3)\n",
    "\n",
    "plt.ylabel('People Count')\n",
    "plt.xlabel('Sex')\n",
    "plt.title('Survivals by Sex')\n",
    "plt.xticks([1.3, 2.3], survivals['Sex'])\n",
    "plt.legend((p1[0], p2[0]), ('Survivals', 'Non-Survivals'), loc=9)\n",
    "\n",
    "print 'Survived:  0 = No, 1 = Yes\\n'\n",
    "display(sex_survival_df.pivot_table(index='Sex', columns='Survived'))\n",
    "plt.show()\n"
   ]
  },
  {
   "cell_type": "code",
   "execution_count": 16,
   "metadata": {
    "collapsed": false
   },
   "outputs": [
    {
     "data": {
      "text/plain": [
       "0.54335138065775523"
      ]
     },
     "execution_count": 16,
     "metadata": {},
     "output_type": "execute_result"
    }
   ],
   "source": [
    "# using the correlation() function to get the correlation between Gender and Survived data columns\n",
    "correlation(titanic_df['Gender'], titanic_df['Survived'])"
   ]
  },
  {
   "cell_type": "markdown",
   "metadata": {},
   "source": [
    "This means there is a relationship between **Survival** and **Sex**  \n",
    "More femals have survived than males and the ratio of survived/died for female is 2.88, which means for every 3 female survivals there were 1 female who died. However, the ratio for males is 0.23, which means for every 1 male survival there were 4 males who died.  \n",
    "\n",
    "### Q8. Is there a relationship between survival and age?"
   ]
  },
  {
   "cell_type": "code",
   "execution_count": 17,
   "metadata": {
    "collapsed": false
   },
   "outputs": [
    {
     "name": "stdout",
     "output_type": "stream",
     "text": [
      "Survived:  0 = No, 1 = Yes\n",
      "\n"
     ]
    },
    {
     "data": {
      "text/html": [
       "<div>\n",
       "<table border=\"1\" class=\"dataframe\">\n",
       "  <thead>\n",
       "    <tr>\n",
       "      <th></th>\n",
       "      <th colspan=\"2\" halign=\"left\">Number of people</th>\n",
       "    </tr>\n",
       "    <tr>\n",
       "      <th>Survived</th>\n",
       "      <th>0</th>\n",
       "      <th>1</th>\n",
       "    </tr>\n",
       "    <tr>\n",
       "      <th>Age range</th>\n",
       "      <th></th>\n",
       "      <th></th>\n",
       "    </tr>\n",
       "  </thead>\n",
       "  <tbody>\n",
       "    <tr>\n",
       "      <th>Adult</th>\n",
       "      <td>345</td>\n",
       "      <td>219</td>\n",
       "    </tr>\n",
       "    <tr>\n",
       "      <th>Child</th>\n",
       "      <td>69</td>\n",
       "      <td>70</td>\n",
       "    </tr>\n",
       "    <tr>\n",
       "      <th>Senior</th>\n",
       "      <td>10</td>\n",
       "      <td>1</td>\n",
       "    </tr>\n",
       "  </tbody>\n",
       "</table>\n",
       "</div>"
      ],
      "text/plain": [
       "          Number of people     \n",
       "Survived                 0    1\n",
       "Age range                      \n",
       "Adult                  345  219\n",
       "Child                   69   70\n",
       "Senior                  10    1"
      ]
     },
     "metadata": {},
     "output_type": "display_data"
    },
    {
     "data": {
      "image/png": "[encoded data removed]",
      "text/plain": [
       "<matplotlib.figure.Figure at 0xbb7c208>"
      ]
     },
     "metadata": {},
     "output_type": "display_data"
    }
   ],
   "source": [
    "# we are using the count_group() function to get the count of Age range and survival\n",
    "age_range_survival_df = count_group(['Age range', 'Survived'])\n",
    "\n",
    "# Spliting the sex_survival_df into survivals and non-survivals using survivals_and_non_survivals() function\n",
    "survivals, non_survivals = survivals_and_non_survivals(age_range_survival_df)\n",
    "\n",
    "# ploting survivals and non_survivals for comparison\n",
    "p1=plt.bar(left1, survivals['Number of people'], color='b', width=0.3)\n",
    "p2=plt.bar(left2, non_survivals['Number of people'], color='r', width=0.3)\n",
    "\n",
    "plt.ylabel('People Count')\n",
    "plt.xlabel('Age range')\n",
    "plt.title('Survivals by Age range')\n",
    "plt.xticks([1.3, 2.3, 3.3], survivals['Age range'])\n",
    "plt.legend((p1[0], p2[0]), ('Survivals', 'Non-Survivals'))\n",
    "\n",
    "print 'Survived:  0 = No, 1 = Yes\\n'\n",
    "display(age_range_survival_df.pivot_table(index='Age range', columns='Survived'))\n",
    "plt.show()\n"
   ]
  },
  {
   "cell_type": "code",
   "execution_count": 18,
   "metadata": {
    "collapsed": false
   },
   "outputs": [
    {
     "data": {
      "text/plain": [
       "-0.077221094572177656"
      ]
     },
     "execution_count": 18,
     "metadata": {},
     "output_type": "execute_result"
    }
   ],
   "source": [
    "# making a temp dataframe that has only the Age and Survived columns\n",
    "# we are using the Pandas concat() to concatenate the two columns\n",
    "temp_df = pd.concat([titanic_df['Age'], titanic_df['Survived']], axis=1)\n",
    "\n",
    "temp_df.dropna(inplace=True) # Droping the rows where we are missing data \"nan\"\n",
    "\n",
    "# using the correlation() function to get the correlation between Age and Survived data columns\n",
    "correlation(temp_df['Age'], temp_df['Survived'])"
   ]
  },
  {
   "cell_type": "markdown",
   "metadata": {},
   "source": [
    "This means there is almost no relationship between **Age** and **Survival**  \n",
    "\n",
    "### Q9. Is there a relationship between survival and having a sibling/spouse/parent/child aboard the Titanic?"
   ]
  },
  {
   "cell_type": "code",
   "execution_count": 19,
   "metadata": {
    "collapsed": false
   },
   "outputs": [
    {
     "name": "stdout",
     "output_type": "stream",
     "text": [
      "0.2033670857\n"
     ]
    }
   ],
   "source": [
    "# we are adding a new column to the dataframe for family and we are adding the SibSp and Parch columns to get the new column\n",
    "titanic_df['family'] = titanic_df['SibSp'] + titanic_df['Parch']\n",
    "\n",
    "# we are changing the values of the family column to 1 if the person has at least one family member and 0 if they don't\n",
    "titanic_df['family'] = titanic_df['family'].apply(lambda x: 1 if x > 0 else 0)\n",
    "\n",
    "# using the correlation() function to get the correlation between family and Survived data columns\n",
    "print correlation(titanic_df['family'], titanic_df['Survived'])"
   ]
  },
  {
   "cell_type": "markdown",
   "metadata": {},
   "source": [
    "This means there is some relationship between **survival** and **having a sibling/spouse/parent/child aboard the Titanic**"
   ]
  },
  {
   "cell_type": "markdown",
   "metadata": {},
   "source": [
    "# Conclusion:\n",
    "After finishing the data analisist on the Titanic Data we noticed/discovered few things. First, female had more chance of seervivals than male. People who had a 1st Ticket class had a better survival/death ratio that people who had a 3rd Ticket class. Also, we saw that having a family member abroad slightly increased the chances of servival. Second, we saw that about 72.4% of people ported from Southampton, which was the first port the Titanic left. Third, we saw that the age distribution was positively-skewed and most people where between the ages of 17 to 37.  \n",
    "\n",
    "We had some missing Data, especially age data; We had 714 age records out of 891. This missing data could have effected the age findings if the missing ages are high or low, meaning, if most of the missing age records were records of seniors then the missing data had an effect. We would have a better understaning of the data if we didn't have any missing data."
   ]
  }
 ],
 "metadata": {
  "anaconda-cloud": {},
  "kernelspec": {
   "display_name": "Python [conda env:DAND]",
   "language": "python",
   "name": "conda-env-DAND-py"
  },
  "language_info": {
   "codemirror_mode": {
    "name": "ipython",
    "version": 2
   },
   "file_extension": ".py",
   "mimetype": "text/x-python",
   "name": "python",
   "nbconvert_exporter": "python",
   "pygments_lexer": "ipython2",
   "version": "2.7.12"
  }
 },
 "nbformat": 4,
 "nbformat_minor": 2
}
